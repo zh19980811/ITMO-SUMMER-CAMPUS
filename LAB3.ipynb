{
 "cells": [
  {
   "cell_type": "markdown",
   "id": "fd6b5a3c-10b2-4c60-9943-53d584498250",
   "metadata": {},
   "source": [
    "Upload kaggle"
   ]
  },
  {
   "cell_type": "code",
   "execution_count": 1,
   "id": "07349738-6827-46cf-acbd-f10e2b689b0e",
   "metadata": {},
   "outputs": [
    {
     "data": {
      "application/vnd.jupyter.widget-view+json": {
       "model_id": "164bd33848194b84aa363745d22a2f6d",
       "version_major": 2,
       "version_minor": 0
      },
      "text/plain": [
       "FileUpload(value=(), accept='.json', description='Upload')"
      ]
     },
     "metadata": {},
     "output_type": "display_data"
    }
   ],
   "source": [
    "from ipywidgets import FileUpload\n",
    "from IPython.display import display\n",
    "upload = FileUpload(accept='.json', multiple=False)\n",
    "display(upload)"
   ]
  },
  {
   "cell_type": "code",
   "execution_count": 1,
   "id": "4030d402-c7e1-4112-9802-ea048917af49",
   "metadata": {},
   "outputs": [
    {
     "name": "stderr",
     "output_type": "stream",
     "text": [
      "Traceback (most recent call last):\n",
      "  File \"C:\\Users\\张笃韬\\AppData\\Local\\Programs\\Python\\Python310\\lib\\runpy.py\", line 196, in _run_module_as_main\n",
      "    return _run_code(code, main_globals, None,\n",
      "  File \"C:\\Users\\张笃韬\\AppData\\Local\\Programs\\Python\\Python310\\lib\\runpy.py\", line 86, in _run_code\n",
      "    exec(code, run_globals)\n",
      "  File \"C:\\Users\\张笃韬\\AppData\\Local\\Programs\\Python\\Python310\\Scripts\\kaggle.exe\\__main__.py\", line 4, in <module>\n",
      "  File \"C:\\Users\\张笃韬\\AppData\\Local\\Programs\\Python\\Python310\\lib\\site-packages\\kaggle\\__init__.py\", line 23, in <module>\n",
      "    api.authenticate()\n",
      "  File \"C:\\Users\\张笃韬\\AppData\\Local\\Programs\\Python\\Python310\\lib\\site-packages\\kaggle\\api\\kaggle_api_extended.py\", line 403, in authenticate\n",
      "    raise IOError('Could not find {}. Make sure it\\'s located in'\n",
      "OSError: Could not find kaggle.json. Make sure it's located in C:\\Users\\张笃韬\\.kaggle. Or use the environment method.\n",
      "'unzip' 不是内部或外部命令，也不是可运行的程序\n",
      "或批处理文件。\n"
     ]
    }
   ],
   "source": [
    "!kaggle competitions download -c qa-over-slides-searching-for-the-information\n",
    "\n",
    "# You may also want to unzip the dataset depending on your requirements.\n",
    "!unzip -q qa-over-slides-searching-for-the-information.zip\n"
   ]
  },
  {
   "cell_type": "code",
   "execution_count": null,
   "id": "d971519c-1008-4aeb-845a-b40e23712a39",
   "metadata": {},
   "outputs": [],
   "source": []
  }
 ],
 "metadata": {
  "kernelspec": {
   "display_name": "Python 3 (ipykernel)",
   "language": "python",
   "name": "python3"
  },
  "language_info": {
   "codemirror_mode": {
    "name": "ipython",
    "version": 3
   },
   "file_extension": ".py",
   "mimetype": "text/x-python",
   "name": "python",
   "nbconvert_exporter": "python",
   "pygments_lexer": "ipython3",
   "version": "3.10.11"
  },
  "widgets": {
   "application/vnd.jupyter.widget-state+json": {
    "state": {
     "1b2f8c2a51484becba0e24b616611dbc": {
      "model_module": "@jupyter-widgets/base",
      "model_module_version": "2.0.0",
      "model_name": "LayoutModel",
      "state": {}
     },
     "403ef7d4d02047db84cba0b106647da1": {
      "model_module": "@jupyter-widgets/controls",
      "model_module_version": "2.0.0",
      "model_name": "FileUploadModel",
      "state": {
       "accept": ".json",
       "description_allow_html": false,
       "layout": "IPY_MODEL_1b2f8c2a51484becba0e24b616611dbc",
       "style": "IPY_MODEL_487ef9ed7c7545cc9cfa34c39081e945"
      }
     },
     "487ef9ed7c7545cc9cfa34c39081e945": {
      "model_module": "@jupyter-widgets/controls",
      "model_module_version": "2.0.0",
      "model_name": "ButtonStyleModel",
      "state": {
       "font_family": null,
       "font_size": null,
       "font_style": null,
       "font_variant": null,
       "font_weight": null,
       "text_color": null,
       "text_decoration": null
      }
     }
    },
    "version_major": 2,
    "version_minor": 0
   }
  }
 },
 "nbformat": 4,
 "nbformat_minor": 5
}
