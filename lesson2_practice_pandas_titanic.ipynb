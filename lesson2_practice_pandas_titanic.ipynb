{
 "cells": [
  {
   "cell_type": "markdown",
   "metadata": {
    "id": "Bh2Y9GkV5sN-"
   },
   "source": [
    "# Task 1.1. "
   ]
  },
  {
   "cell_type": "markdown",
   "metadata": {
    "id": "U4AHFzKP5sOC"
   },
   "source": [
    "## Practical task. Titanic data analysis"
   ]
  },
  {
   "cell_type": "code",
   "execution_count": 1,
   "metadata": {
    "id": "K55zYqKM5sOF",
    "outputId": "3e40629c-eef8-474a-ac2f-ac3c0abbd7b0"
   },
   "outputs": [
    {
     "name": "stdout",
     "output_type": "stream",
     "text": [
      "%pylab is deprecated, use %matplotlib inline and import the required libraries.\n",
      "Populating the interactive namespace from numpy and matplotlib\n"
     ]
    }
   ],
   "source": [
    "%pylab inline\n",
    "import seaborn as sns\n",
    "import pandas as pd"
   ]
  },
  {
   "cell_type": "markdown",
   "metadata": {
    "id": "Z-SGFnpM5sOH"
   },
   "source": [
    "Reading data from a file into memory as a Pandas.DataFrame object"
   ]
  },
  {
   "cell_type": "code",
   "execution_count": 2,
   "metadata": {
    "id": "RTiLFGdm5sOI"
   },
   "outputs": [],
   "source": [
    "data = pd.read_csv('titanic_train.csv')"
   ]
  },
  {
   "cell_type": "markdown",
   "metadata": {
    "id": "bG9Pwk4-5sOI"
   },
   "source": [
    "**Data is presented in the form of a table. Let's take a look at the first 5 lines:**"
   ]
  },
  {
   "cell_type": "code",
   "execution_count": 3,
   "metadata": {
    "id": "PAp7Cujo5sOJ",
    "outputId": "a4e0119e-219e-4244-c064-300db602c259"
   },
   "outputs": [
    {
     "data": {
      "text/html": [
       "<div>\n",
       "<style scoped>\n",
       "    .dataframe tbody tr th:only-of-type {\n",
       "        vertical-align: middle;\n",
       "    }\n",
       "\n",
       "    .dataframe tbody tr th {\n",
       "        vertical-align: top;\n",
       "    }\n",
       "\n",
       "    .dataframe thead th {\n",
       "        text-align: right;\n",
       "    }\n",
       "</style>\n",
       "<table border=\"1\" class=\"dataframe\">\n",
       "  <thead>\n",
       "    <tr style=\"text-align: right;\">\n",
       "      <th></th>\n",
       "      <th>PassengerId</th>\n",
       "      <th>Survived</th>\n",
       "      <th>Pclass</th>\n",
       "      <th>Name</th>\n",
       "      <th>Sex</th>\n",
       "      <th>Age</th>\n",
       "      <th>SibSp</th>\n",
       "      <th>Parch</th>\n",
       "      <th>Ticket</th>\n",
       "      <th>Fare</th>\n",
       "      <th>Cabin</th>\n",
       "      <th>Embarked</th>\n",
       "    </tr>\n",
       "  </thead>\n",
       "  <tbody>\n",
       "    <tr>\n",
       "      <th>0</th>\n",
       "      <td>1</td>\n",
       "      <td>0</td>\n",
       "      <td>3</td>\n",
       "      <td>Braund, Mr. Owen Harris</td>\n",
       "      <td>male</td>\n",
       "      <td>22.0</td>\n",
       "      <td>1</td>\n",
       "      <td>0</td>\n",
       "      <td>A/5 21171</td>\n",
       "      <td>7.2500</td>\n",
       "      <td>NaN</td>\n",
       "      <td>S</td>\n",
       "    </tr>\n",
       "    <tr>\n",
       "      <th>1</th>\n",
       "      <td>2</td>\n",
       "      <td>1</td>\n",
       "      <td>1</td>\n",
       "      <td>Cumings, Mrs. John Bradley (Florence Briggs Th...</td>\n",
       "      <td>female</td>\n",
       "      <td>38.0</td>\n",
       "      <td>1</td>\n",
       "      <td>0</td>\n",
       "      <td>PC 17599</td>\n",
       "      <td>71.2833</td>\n",
       "      <td>C85</td>\n",
       "      <td>C</td>\n",
       "    </tr>\n",
       "    <tr>\n",
       "      <th>2</th>\n",
       "      <td>3</td>\n",
       "      <td>1</td>\n",
       "      <td>3</td>\n",
       "      <td>Heikkinen, Miss. Laina</td>\n",
       "      <td>female</td>\n",
       "      <td>26.0</td>\n",
       "      <td>0</td>\n",
       "      <td>0</td>\n",
       "      <td>STON/O2. 3101282</td>\n",
       "      <td>7.9250</td>\n",
       "      <td>NaN</td>\n",
       "      <td>S</td>\n",
       "    </tr>\n",
       "    <tr>\n",
       "      <th>3</th>\n",
       "      <td>4</td>\n",
       "      <td>1</td>\n",
       "      <td>1</td>\n",
       "      <td>Futrelle, Mrs. Jacques Heath (Lily May Peel)</td>\n",
       "      <td>female</td>\n",
       "      <td>35.0</td>\n",
       "      <td>1</td>\n",
       "      <td>0</td>\n",
       "      <td>113803</td>\n",
       "      <td>53.1000</td>\n",
       "      <td>C123</td>\n",
       "      <td>S</td>\n",
       "    </tr>\n",
       "    <tr>\n",
       "      <th>4</th>\n",
       "      <td>5</td>\n",
       "      <td>0</td>\n",
       "      <td>3</td>\n",
       "      <td>Allen, Mr. William Henry</td>\n",
       "      <td>male</td>\n",
       "      <td>35.0</td>\n",
       "      <td>0</td>\n",
       "      <td>0</td>\n",
       "      <td>373450</td>\n",
       "      <td>8.0500</td>\n",
       "      <td>NaN</td>\n",
       "      <td>S</td>\n",
       "    </tr>\n",
       "  </tbody>\n",
       "</table>\n",
       "</div>"
      ],
      "text/plain": [
       "   PassengerId  Survived  Pclass  \\\n",
       "0            1         0       3   \n",
       "1            2         1       1   \n",
       "2            3         1       3   \n",
       "3            4         1       1   \n",
       "4            5         0       3   \n",
       "\n",
       "                                                Name     Sex   Age  SibSp  \\\n",
       "0                            Braund, Mr. Owen Harris    male  22.0      1   \n",
       "1  Cumings, Mrs. John Bradley (Florence Briggs Th...  female  38.0      1   \n",
       "2                             Heikkinen, Miss. Laina  female  26.0      0   \n",
       "3       Futrelle, Mrs. Jacques Heath (Lily May Peel)  female  35.0      1   \n",
       "4                           Allen, Mr. William Henry    male  35.0      0   \n",
       "\n",
       "   Parch            Ticket     Fare Cabin Embarked  \n",
       "0      0         A/5 21171   7.2500   NaN        S  \n",
       "1      0          PC 17599  71.2833   C85        C  \n",
       "2      0  STON/O2. 3101282   7.9250   NaN        S  \n",
       "3      0            113803  53.1000  C123        S  \n",
       "4      0            373450   8.0500   NaN        S  "
      ]
     },
     "execution_count": 3,
     "metadata": {},
     "output_type": "execute_result"
    }
   ],
   "source": [
    "data.head(5)"
   ]
  },
  {
   "cell_type": "markdown",
   "metadata": {
    "id": "SyIF8G5S5sOK"
   },
   "source": [
    "**Let's take the first 10 elements of the Parch column - the number of parents and children of the passenger on board:**"
   ]
  },
  {
   "cell_type": "code",
   "execution_count": 4,
   "metadata": {
    "id": "PW9xN0q55sOL",
    "outputId": "56b11ada-7886-4ee4-ab91-663c636b49b2"
   },
   "outputs": [
    {
     "data": {
      "text/plain": [
       "0    0\n",
       "1    0\n",
       "2    0\n",
       "3    0\n",
       "4    0\n",
       "5    0\n",
       "6    0\n",
       "7    1\n",
       "8    2\n",
       "9    0\n",
       "Name: Parch, dtype: int64"
      ]
     },
     "execution_count": 4,
     "metadata": {},
     "output_type": "execute_result"
    }
   ],
   "source": [
    "data['Parch'][:10]"
   ]
  },
  {
   "cell_type": "markdown",
   "metadata": {
    "id": "q9_agZJU5sOL"
   },
   "source": [
    "**We select passengers who boarded in Cherbourg (Embarked = C) and paid more than 200 USD. (fare> 200).**\n",
    "\n",
    "Make sure you understand how this design works. <br />\n",
    "If not, see how the expression in brackets is evaluated."
   ]
  },
  {
   "cell_type": "code",
   "execution_count": 5,
   "metadata": {
    "id": "kfd9ddDX5sOM",
    "outputId": "e45dcbef-cf37-4bcd-9c26-6a2f7a98c0d5"
   },
   "outputs": [
    {
     "data": {
      "text/html": [
       "<div>\n",
       "<style scoped>\n",
       "    .dataframe tbody tr th:only-of-type {\n",
       "        vertical-align: middle;\n",
       "    }\n",
       "\n",
       "    .dataframe tbody tr th {\n",
       "        vertical-align: top;\n",
       "    }\n",
       "\n",
       "    .dataframe thead th {\n",
       "        text-align: right;\n",
       "    }\n",
       "</style>\n",
       "<table border=\"1\" class=\"dataframe\">\n",
       "  <thead>\n",
       "    <tr style=\"text-align: right;\">\n",
       "      <th></th>\n",
       "      <th>PassengerId</th>\n",
       "      <th>Survived</th>\n",
       "      <th>Pclass</th>\n",
       "      <th>Name</th>\n",
       "      <th>Sex</th>\n",
       "      <th>Age</th>\n",
       "      <th>SibSp</th>\n",
       "      <th>Parch</th>\n",
       "      <th>Ticket</th>\n",
       "      <th>Fare</th>\n",
       "      <th>Cabin</th>\n",
       "      <th>Embarked</th>\n",
       "    </tr>\n",
       "  </thead>\n",
       "  <tbody>\n",
       "    <tr>\n",
       "      <th>118</th>\n",
       "      <td>119</td>\n",
       "      <td>0</td>\n",
       "      <td>1</td>\n",
       "      <td>Baxter, Mr. Quigg Edmond</td>\n",
       "      <td>male</td>\n",
       "      <td>24.0</td>\n",
       "      <td>0</td>\n",
       "      <td>1</td>\n",
       "      <td>PC 17558</td>\n",
       "      <td>247.5208</td>\n",
       "      <td>B58 B60</td>\n",
       "      <td>C</td>\n",
       "    </tr>\n",
       "    <tr>\n",
       "      <th>258</th>\n",
       "      <td>259</td>\n",
       "      <td>1</td>\n",
       "      <td>1</td>\n",
       "      <td>Ward, Miss. Anna</td>\n",
       "      <td>female</td>\n",
       "      <td>35.0</td>\n",
       "      <td>0</td>\n",
       "      <td>0</td>\n",
       "      <td>PC 17755</td>\n",
       "      <td>512.3292</td>\n",
       "      <td>NaN</td>\n",
       "      <td>C</td>\n",
       "    </tr>\n",
       "    <tr>\n",
       "      <th>299</th>\n",
       "      <td>300</td>\n",
       "      <td>1</td>\n",
       "      <td>1</td>\n",
       "      <td>Baxter, Mrs. James (Helene DeLaudeniere Chaput)</td>\n",
       "      <td>female</td>\n",
       "      <td>50.0</td>\n",
       "      <td>0</td>\n",
       "      <td>1</td>\n",
       "      <td>PC 17558</td>\n",
       "      <td>247.5208</td>\n",
       "      <td>B58 B60</td>\n",
       "      <td>C</td>\n",
       "    </tr>\n",
       "    <tr>\n",
       "      <th>311</th>\n",
       "      <td>312</td>\n",
       "      <td>1</td>\n",
       "      <td>1</td>\n",
       "      <td>Ryerson, Miss. Emily Borie</td>\n",
       "      <td>female</td>\n",
       "      <td>18.0</td>\n",
       "      <td>2</td>\n",
       "      <td>2</td>\n",
       "      <td>PC 17608</td>\n",
       "      <td>262.3750</td>\n",
       "      <td>B57 B59 B63 B66</td>\n",
       "      <td>C</td>\n",
       "    </tr>\n",
       "    <tr>\n",
       "      <th>377</th>\n",
       "      <td>378</td>\n",
       "      <td>0</td>\n",
       "      <td>1</td>\n",
       "      <td>Widener, Mr. Harry Elkins</td>\n",
       "      <td>male</td>\n",
       "      <td>27.0</td>\n",
       "      <td>0</td>\n",
       "      <td>2</td>\n",
       "      <td>113503</td>\n",
       "      <td>211.5000</td>\n",
       "      <td>C82</td>\n",
       "      <td>C</td>\n",
       "    </tr>\n",
       "    <tr>\n",
       "      <th>380</th>\n",
       "      <td>381</td>\n",
       "      <td>1</td>\n",
       "      <td>1</td>\n",
       "      <td>Bidois, Miss. Rosalie</td>\n",
       "      <td>female</td>\n",
       "      <td>42.0</td>\n",
       "      <td>0</td>\n",
       "      <td>0</td>\n",
       "      <td>PC 17757</td>\n",
       "      <td>227.5250</td>\n",
       "      <td>NaN</td>\n",
       "      <td>C</td>\n",
       "    </tr>\n",
       "    <tr>\n",
       "      <th>557</th>\n",
       "      <td>558</td>\n",
       "      <td>0</td>\n",
       "      <td>1</td>\n",
       "      <td>Robbins, Mr. Victor</td>\n",
       "      <td>male</td>\n",
       "      <td>NaN</td>\n",
       "      <td>0</td>\n",
       "      <td>0</td>\n",
       "      <td>PC 17757</td>\n",
       "      <td>227.5250</td>\n",
       "      <td>NaN</td>\n",
       "      <td>C</td>\n",
       "    </tr>\n",
       "    <tr>\n",
       "      <th>679</th>\n",
       "      <td>680</td>\n",
       "      <td>1</td>\n",
       "      <td>1</td>\n",
       "      <td>Cardeza, Mr. Thomas Drake Martinez</td>\n",
       "      <td>male</td>\n",
       "      <td>36.0</td>\n",
       "      <td>0</td>\n",
       "      <td>1</td>\n",
       "      <td>PC 17755</td>\n",
       "      <td>512.3292</td>\n",
       "      <td>B51 B53 B55</td>\n",
       "      <td>C</td>\n",
       "    </tr>\n",
       "    <tr>\n",
       "      <th>700</th>\n",
       "      <td>701</td>\n",
       "      <td>1</td>\n",
       "      <td>1</td>\n",
       "      <td>Astor, Mrs. John Jacob (Madeleine Talmadge Force)</td>\n",
       "      <td>female</td>\n",
       "      <td>18.0</td>\n",
       "      <td>1</td>\n",
       "      <td>0</td>\n",
       "      <td>PC 17757</td>\n",
       "      <td>227.5250</td>\n",
       "      <td>C62 C64</td>\n",
       "      <td>C</td>\n",
       "    </tr>\n",
       "    <tr>\n",
       "      <th>716</th>\n",
       "      <td>717</td>\n",
       "      <td>1</td>\n",
       "      <td>1</td>\n",
       "      <td>Endres, Miss. Caroline Louise</td>\n",
       "      <td>female</td>\n",
       "      <td>38.0</td>\n",
       "      <td>0</td>\n",
       "      <td>0</td>\n",
       "      <td>PC 17757</td>\n",
       "      <td>227.5250</td>\n",
       "      <td>C45</td>\n",
       "      <td>C</td>\n",
       "    </tr>\n",
       "    <tr>\n",
       "      <th>737</th>\n",
       "      <td>738</td>\n",
       "      <td>1</td>\n",
       "      <td>1</td>\n",
       "      <td>Lesurer, Mr. Gustave J</td>\n",
       "      <td>male</td>\n",
       "      <td>35.0</td>\n",
       "      <td>0</td>\n",
       "      <td>0</td>\n",
       "      <td>PC 17755</td>\n",
       "      <td>512.3292</td>\n",
       "      <td>B101</td>\n",
       "      <td>C</td>\n",
       "    </tr>\n",
       "    <tr>\n",
       "      <th>742</th>\n",
       "      <td>743</td>\n",
       "      <td>1</td>\n",
       "      <td>1</td>\n",
       "      <td>Ryerson, Miss. Susan Parker \"Suzette\"</td>\n",
       "      <td>female</td>\n",
       "      <td>21.0</td>\n",
       "      <td>2</td>\n",
       "      <td>2</td>\n",
       "      <td>PC 17608</td>\n",
       "      <td>262.3750</td>\n",
       "      <td>B57 B59 B63 B66</td>\n",
       "      <td>C</td>\n",
       "    </tr>\n",
       "  </tbody>\n",
       "</table>\n",
       "</div>"
      ],
      "text/plain": [
       "     PassengerId  Survived  Pclass  \\\n",
       "118          119         0       1   \n",
       "258          259         1       1   \n",
       "299          300         1       1   \n",
       "311          312         1       1   \n",
       "377          378         0       1   \n",
       "380          381         1       1   \n",
       "557          558         0       1   \n",
       "679          680         1       1   \n",
       "700          701         1       1   \n",
       "716          717         1       1   \n",
       "737          738         1       1   \n",
       "742          743         1       1   \n",
       "\n",
       "                                                  Name     Sex   Age  SibSp  \\\n",
       "118                           Baxter, Mr. Quigg Edmond    male  24.0      0   \n",
       "258                                   Ward, Miss. Anna  female  35.0      0   \n",
       "299    Baxter, Mrs. James (Helene DeLaudeniere Chaput)  female  50.0      0   \n",
       "311                         Ryerson, Miss. Emily Borie  female  18.0      2   \n",
       "377                          Widener, Mr. Harry Elkins    male  27.0      0   \n",
       "380                              Bidois, Miss. Rosalie  female  42.0      0   \n",
       "557                                Robbins, Mr. Victor    male   NaN      0   \n",
       "679                 Cardeza, Mr. Thomas Drake Martinez    male  36.0      0   \n",
       "700  Astor, Mrs. John Jacob (Madeleine Talmadge Force)  female  18.0      1   \n",
       "716                      Endres, Miss. Caroline Louise  female  38.0      0   \n",
       "737                             Lesurer, Mr. Gustave J    male  35.0      0   \n",
       "742              Ryerson, Miss. Susan Parker \"Suzette\"  female  21.0      2   \n",
       "\n",
       "     Parch    Ticket      Fare            Cabin Embarked  \n",
       "118      1  PC 17558  247.5208          B58 B60        C  \n",
       "258      0  PC 17755  512.3292              NaN        C  \n",
       "299      1  PC 17558  247.5208          B58 B60        C  \n",
       "311      2  PC 17608  262.3750  B57 B59 B63 B66        C  \n",
       "377      2    113503  211.5000              C82        C  \n",
       "380      0  PC 17757  227.5250              NaN        C  \n",
       "557      0  PC 17757  227.5250              NaN        C  \n",
       "679      1  PC 17755  512.3292      B51 B53 B55        C  \n",
       "700      0  PC 17757  227.5250          C62 C64        C  \n",
       "716      0  PC 17757  227.5250              C45        C  \n",
       "737      0  PC 17755  512.3292             B101        C  \n",
       "742      2  PC 17608  262.3750  B57 B59 B63 B66        C  "
      ]
     },
     "execution_count": 5,
     "metadata": {},
     "output_type": "execute_result"
    }
   ],
   "source": [
    "data[(data['Embarked'] == 'C') & (data['Fare'] > 200)]"
   ]
  },
  {
   "cell_type": "markdown",
   "metadata": {
    "id": "l6wTdTUZ5sON"
   },
   "source": [
    "**1. How many men / women were on board?**"
   ]
  },
  {
   "cell_type": "code",
   "execution_count": 6,
   "metadata": {
    "id": "77h_rN465sON"
   },
   "outputs": [
    {
     "name": "stdout",
     "output_type": "stream",
     "text": [
      "Men count: 577\n",
      "Women count: 314\n"
     ]
    }
   ],
   "source": [
    "men_count = data[data['Sex'] == 'male'].shape[0]\n",
    "women_count = data[data['Sex'] == 'female'].shape[0]\n",
    "print(f\"Men count: {men_count}\")\n",
    "print(f\"Women count: {women_count}\")"
   ]
  },
  {
   "cell_type": "markdown",
   "metadata": {
    "id": "-m1Amkye5sOO"
   },
   "source": [
    "**2. Print the distribution of deaths/survivors for Pclass (socioeconomic status). Additionally - the same distribution, but taking into account gender. (no tables, only plot)**"
   ]
  },
  {
   "cell_type": "code",
   "execution_count": 7,
   "metadata": {
    "id": "Oef6dKU75sOO"
   },
   "outputs": [
    {
     "data": {
      "image/png": "[encoded data removed]",
      "text/plain": [
       "<Figure size 640x480 with 1 Axes>"
      ]
     },
     "metadata": {},
     "output_type": "display_data"
    },
    {
     "data": {
      "image/png": "[encoded data removed]",
      "text/plain": [
       "<Figure size 640x480 with 1 Axes>"
      ]
     },
     "metadata": {},
     "output_type": "display_data"
    }
   ],
   "source": [
    "sns.countplot(x='Pclass', hue='Survived', data=data, palette='Set2')\n",
    "plt.show()\n",
    "sns.countplot(x='Sex', hue='Survived', data=data, palette='Set1')\n",
    "plt.show()"
   ]
  },
  {
   "cell_type": "markdown",
   "metadata": {
    "id": "4u5J5VmN5sOO"
   },
   "source": [
    "**3. How much did one passenger pay on average? Find the variance of this quantity. How much did all passengers pay in total?**"
   ]
  },
  {
   "cell_type": "code",
   "execution_count": 8,
   "metadata": {
    "id": "4SFodEWX5sOP"
   },
   "outputs": [
    {
     "name": "stdout",
     "output_type": "stream",
     "text": [
      "Average fare per passenger: 32.204207968574636\n",
      "Variance of fare per passenger: 2469.436845743116\n",
      "Total fare paid by all passengers: 28693.9493\n"
     ]
    }
   ],
   "source": [
    "# Your code here\n",
    "# Average fare per passenger\n",
    "average_fare = data['Fare'].mean()\n",
    "print(f\"Average fare per passenger: {average_fare}\")\n",
    "\n",
    "# Variance of fare per passenger\n",
    "fare_variance = data['Fare'].var()\n",
    "print(f\"Variance of fare per passenger: {fare_variance}\")\n",
    "\n",
    "# Total fare paid by all passengers\n",
    "total_fare = data['Fare'].sum()\n",
    "print(f\"Total fare paid by all passengers: {total_fare}\")"
   ]
  },
  {
   "cell_type": "markdown",
   "metadata": {
    "id": "yKcPvNzE5sOP"
   },
   "source": [
    "**4. Is it true that young people survived more often (more likely) than old people? Let \"young\" - those who are under 30, and \"old\" - those who are over 60.**"
   ]
  },
  {
   "cell_type": "code",
   "execution_count": 9,
   "metadata": {
    "id": "5N3gIjy75sOP"
   },
   "outputs": [
    {
     "name": "stdout",
     "output_type": "stream",
     "text": [
      "young:0.40625\n",
      "old:0.22727272727272727\n",
      "true\n"
     ]
    }
   ],
   "source": [
    "n1 = data[(data['Age']<30)]['Survived'].mean()\n",
    "n2 = data[(data['Age']>60)]['Survived'].mean()\n",
    "print('young:'+str(n1))\n",
    "print('old:'+str(n2))\n",
    "if n1>n2 :\n",
    "    print('true')\n",
    "else:\n",
    "    print('false')"
   ]
  },
  {
   "cell_type": "markdown",
   "metadata": {
    "id": "8AXAo2bI5sOQ"
   },
   "source": [
    "**5. Is it true that women survived more often than men?**"
   ]
  },
  {
   "cell_type": "code",
   "execution_count": 10,
   "metadata": {
    "id": "DmrNSZvQ5sOQ"
   },
   "outputs": [
    {
     "name": "stdout",
     "output_type": "stream",
     "text": [
      "female:0.7420382165605095\n",
      "male:0.18890814558058924\n",
      "true\n"
     ]
    }
   ],
   "source": [
    "n1 = data[(data['Sex'] == 'female')]['Survived'].mean()\n",
    "n2 = data[(data['Sex'] == 'male')]['Survived'].mean()\n",
    "print('female:'+str(n1))\n",
    "print('male:'+str(n2))\n",
    "if n1>n2 :\n",
    "    print('true')\n",
    "else:\n",
    "    print('false')"
   ]
  },
  {
   "cell_type": "markdown",
   "metadata": {
    "id": "_b7b09gw5sOQ"
   },
   "source": [
    "**6. What's the most popular name among male Titanic passengers?**"
   ]
  },
  {
   "cell_type": "code",
   "execution_count": 11,
   "metadata": {
    "id": "vQY9tpy95sOQ"
   },
   "outputs": [
    {
     "name": "stdout",
     "output_type": "stream",
     "text": [
      "Most popular male name: Braund, Mr. Owen Harris\n",
      "The most popular name among male Titanic passengers is William,which occurs 35 times\n",
      "[('William', 35), ('John', 25), ('George', 14), ('Charles', 13), ('Thomas', 13), ('Henry', 12), ('James', 11), ('Richard', 10), ('Edward', 9), ('Johan', 9), ('Karl', 8), ('Frederick', 8), ('Arthur', 7), ('Alfred', 7), ('Joseph', 6), ('Samuel', 6), ('Robert', 6), ('Ernest', 5), ('Albert', 5), ('Victor', 5), ('Harry', 5), ('Peter', 5), ('Ivan', 4), ('Daniel', 4), ('Walter', 4), ('David', 4), ('Patrick', 4), ('August', 4), ('Hans', 4), ('Ernst', 4), ('Alexander', 3), ('Hanna', 3), ('Stephen', 3), ('Percival', 3), ('Martin', 3), ('Frank', 3), ('Reginald', 3), ('Rene', 3), ('Jakob', 3), ('Francis', 3), ('Nils', 3), ('Benjamin', 3), ('Leo', 3), ('Tannous', 3), ('Owen', 2), ('Timothy', 2), ('Anders', 2), ('Eugene', 2), ('Lawrence', 2), ('Lalio', 2), ('Manuel', 2), ('Juha', 2), ('Hugh', 2), ('Lee', 2), ('Emil', 2), ('Bertram', 2), ('Gustaf', 2), ('Edvard', 2), ('Stanley', 2), ('Leonard', 2), ('Michel', 2), ('Eino', 2), ('Antti', 2), ('Gerious', 2), ('Sidney', 2), ('Matti', 2), ('Erik', 2), ('Mauritz', 2), ('Juho', 2), ('Carl', 2), ('Washington', 2), ('Maurice', 2), ('Jacob', 2), ('Luka', 2), ('Lewis', 2), ('Harold', 2), ('Anthony', 2), ('Johannes', 2), ('Michael', 2), ('Andrew', 2), ('Gosta', 1), ('Farred', 1), ('Edgar', 1), ('Theodor', 1), ('Denis', 1), ('Youssef', 1), ('Engelhart', 1), ('Mansouer', 1), ('Orsen', 1), ('Harald', 1), ('Gerios', 1), ('Vincenz', 1), ('Ambrose', 1), ('Apostolos', 1), ('Sigurd', 1), ('Rahamin', 1), ('Alden', 1), ('Achille', 1), ('Jan', 1), ('Francisco', 1), ('Selman', 1), ('Francesco', 1), ('Paul', 1), ('Herbert', 1), ('Sinai', 1), ('Pastcho', 1), ('Stoytcho', 1), ('Tido', 1), ('Quigg', 1), ('Nicholas', 1), ('Elias', 1), ('Fridtjof', 1), ('Jozef', 1), ('Domingos', 1), ('Emile', 1), ('Jacques', 1), ('Olaf', 1), ('Jeremiah', 1), ('Edgardo', 1), ('Alfonzo', 1), ('Austin', 1), ('Ole', 1), ('Mile', 1), ('Jovo', 1), ('Wyckoff', 1), ('Klas', 1), ('Lionel', 1), ('Clarence', 1), ('Stjepan', 1), ('Nestor', 1), ('Gurshon', 1), ('Nassef', 1), ('Ahmed', 1), ('Philip', 1), ('Christo', 1), ('Arne', 1), ('Bengt', 1), ('Sleiman', 1), ('Edvin', 1), ('Ernesti', 1), ('Eric', 1), ('Alfons', 1), ('Theodore', 1), ('Penko', 1), ('Masabumi', 1), ('Ervin', 1), ('Mansour', 1), ('Adolphe', 1), ('Bernard', 1), ('Howard', 1), ('Hudson', 1), ('Ignjac', 1), ('Yoto', 1), ('Austen', 1), ('Mitto', 1), ('Edmond', 1), ('Jovan', 1), ('Fletcher', 1), ('Josef', 1), ('Wazli', 1), ('Wilhelm', 1), ('Sebastiano', 1), ('Adola', 1), ('Sante', 1), ('Vasil', 1), ('Matthew', 1), ('Pekka', 1), ('Shadrach', 1), ('Carl/Charles', 1), ('Todor', 1), ('Stanio', 1), ('Viktor', 1), ('Phillippe', 1), ('Berk', 1), ('Nikolai', 1), ('Mark', 1), ('Leon', 1), ('Bernt', 1), ('Frederic', 1), ('Edwy', 1), ('Ingvald', 1), ('Simon', 1), ('Dickinson', 1), ('Eden', 1), ('Konrad', 1), ('Einar', 1), ('Ramon', 1), ('Olof', 1), ('Petar', 1), ('Fang', 1), ('Satio', 1), ('Stefo', 1), ('Janko', 1), ('Sarkis', 1), ('Fared', 1), ('Nakli', 1), ('Archibald', 1), ('Julian', 1), ('Fahim', 1), ('Husein', 1), ('Ilia', 1), ('Eiriik', 1), ('Uscher', 1), ('Maxmillian', 1), ('Eliezer', 1), ('Jean', 1), ('Cosmo', 1), ('Petco', 1), ('Milan', 1), ('Jose', 1), ('Antoni', 1), ('Edwin', 1), ('Sahid', 1), ('Guentcho', 1), ('Algernon', 1), ('Max', 1), ('Harvey', 1), ('Choong', 1), ('Liudevit', 1), ('Oberst', 1), ('Mito', 1), ('Mohamed', 1), ('Peju', 1), ('Knud', 1), ('Thornton', 1), ('Ennis', 1), ('Hammad', 1), ('Thor', 1), ('Jaako', 1), ('Branko', 1), ('Eberhard', 1), ('Ali', 1), ('Khalil', 1), ('Adolf', 1), ('Spencer', 1), ('Henrik', 1), ('Halim', 1), ('Herman', 1), ('Elmer', 1), ('Malkolm', 1), ('Svend', 1), ('Norman', 1), ('Kurt', 1), ('Houssein', 1), ('Moses', 1), ('Leslie', 1), ('Gustave', 1), ('Kanio', 1), ('Minko', 1), ('Tyrell', 1), ('Neal', 1), ('Rossmore', 1), ('Meier', 1), ('Viljo', 1), ('Percy', 1), ('Iisakki', 1), ('Niels', 1), ('Dibo', 1), ('Pehr', 1), ('Roger', 1), ('Milton', 1), ('Abraham', 1), ('Ristiu', 1), ('Yousseff', 1), ('Assad', 1), ('Oskar', 1), ('Nikola', 1), ('Urho', 1), ('Len', 1), ('Andre', 1), ('Amin', 1), ('Chang', 1), ('Pierre', 1), ('Ilmari', 1), ('Jeso', 1), ('Douglas', 1), ('Marin', 1), ('Sigvard', 1), ('Raihed', 1), ('Claus', 1), ('Philemon', 1), ('Cerin', 1), ('Frans', 1), ('Nedelio', 1), ('Kristo', 1), ('Johann', 1), ('Juozas', 1)]\n"
     ]
    }
   ],
   "source": [
    "from collections import Counter\n",
    "arr = []\n",
    "d = data[(data['Sex'] == 'male')]\n",
    "# d.loc[np.random.randint(d.shape[0], size=2)]\n",
    "for i in range(577):\n",
    "    arr.append(d.iloc[i]['Name'].split('.',1)[1].split(' ',2)[1])\n",
    "# print(arr)\n",
    "result = Counter(arr).most_common()\n",
    "print('The most popular name among male Titanic passengers is {},which occurs {} times'.format(result[0][0],result[0][1]))\n",
    "print(result)"
   ]
  },
  {
   "cell_type": "markdown",
   "metadata": {
    "id": "vhUm48vU5sOR"
   },
   "source": [
    "**7. Compare the distribution of ticket prices between the rescued and the dead. (plots)**"
   ]
  },
  {
   "cell_type": "code",
   "execution_count": 12,
   "metadata": {
    "id": "G_chXKda5sOR"
   },
   "outputs": [
    {
     "data": {
      "image/png": "[encoded data removed]",
      "text/plain": [
       "<Figure size 640x480 with 1 Axes>"
      ]
     },
     "metadata": {},
     "output_type": "display_data"
    }
   ],
   "source": [
    "# Ticket prices for survivors\n",
    "survivor_fares = data[data['Survived'] == 1]['Fare']\n",
    "\n",
    "# Ticket prices for non-survivors\n",
    "non_survivor_fares = data[data['Survived'] == 0]['Fare']\n",
    "\n",
    "plt.hist(survivor_fares, alpha=0.5, label='Survivors')\n",
    "plt.hist(non_survivor_fares, alpha=0.5, label='Non-survivors')\n",
    "plt.title('Distribution of ticket prices between the rescued and the dead')\n",
    "plt.xlabel('Ticket price')\n",
    "plt.ylabel('Count')\n",
    "plt.legend(loc='upper right')\n",
    "plt.show()"
   ]
  },
  {
   "cell_type": "markdown",
   "metadata": {
    "id": "YfI3eSML5sOR"
   },
   "source": [
    "**8. How does the average age of men / women differ by class of service?**"
   ]
  },
  {
   "cell_type": "code",
   "execution_count": 13,
   "metadata": {
    "id": "od7Gmf-Z5sOS"
   },
   "outputs": [
    {
     "name": "stdout",
     "output_type": "stream",
     "text": [
      "Pclass  Sex   \n",
      "1       female    34.611765\n",
      "        male      41.281386\n",
      "2       female    28.722973\n",
      "        male      30.740707\n",
      "3       female    21.750000\n",
      "        male      26.507589\n",
      "Name: Age, dtype: float64\n"
     ]
    }
   ],
   "source": [
    "# Average age of men and women by class of service\n",
    "age_by_class = data.groupby(['Pclass', 'Sex'])['Age'].mean()\n",
    "print(age_by_class)"
   ]
  }
 ],
 "metadata": {
  "colab": {
   "provenance": []
  },
  "kernelspec": {
   "display_name": "Python 3 (ipykernel)",
   "language": "python",
   "name": "python3"
  },
  "language_info": {
   "codemirror_mode": {
    "name": "ipython",
    "version": 3
   },
   "file_extension": ".py",
   "mimetype": "text/x-python",
   "name": "python",
   "nbconvert_exporter": "python",
   "pygments_lexer": "ipython3",
   "version": "3.11.2"
  },
  "name": "seminar02_practice_pandas_titanic.ipynb"
 },
 "nbformat": 4,
 "nbformat_minor": 1
}
