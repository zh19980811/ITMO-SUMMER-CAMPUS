{
 "cells": [
  {
   "cell_type": "markdown",
   "metadata": {
    "id": "qy_3CLfGFr58"
   },
   "source": [
    "# Task 3. Linear regression."
   ]
  },
  {
   "cell_type": "markdown",
   "metadata": {
    "id": "w-i2bY_RFr5_"
   },
   "source": [
    "Let's consider an example of the problem of restoring regression on model data. Let's generate a set of points on the plane: the first coordinate is the $x$ attribute, the second is the $ y $ answer. To recover the $y = f(x)$ dependency, we will use the [linear regression] model (https://en.wikipedia.org/wiki/Linear_regression). This model is the most frequently used and most studied in econometrics."
   ]
  },
  {
   "cell_type": "code",
   "execution_count": 1,
   "metadata": {
    "colab": {
     "base_uri": "https://localhost:8080/"
    },
    "executionInfo": {
     "elapsed": 2169,
     "status": "ok",
     "timestamp": 1674733565237,
     "user": {
      "displayName": "Sergey Muravyov",
      "userId": "10949358407602425133"
     },
     "user_tz": -180
    },
    "id": "BtTCIeLhFr6A",
    "outputId": "d3c85ef5-abca-4697-8334-8b6af37f081b"
   },
   "outputs": [
    {
     "name": "stdout",
     "output_type": "stream",
     "text": [
      "Populating the interactive namespace from numpy and matplotlib\n"
     ]
    }
   ],
   "source": [
    "from __future__ import division, print_function\n",
    "# отключим всякие предупреждения Anaconda\n",
    "import warnings\n",
    "warnings.filterwarnings('ignore')\n",
    "%pylab inline\n",
    "#import seaborn as sns\n",
    "import numpy as np\n",
    "np.set_printoptions(precision=3)\n",
    "from sklearn.linear_model import LinearRegression"
   ]
  },
  {
   "cell_type": "markdown",
   "metadata": {
    "id": "nVPHba6iFr6C"
   },
   "source": [
    "Example on randomly generated data"
   ]
  },
  {
   "cell_type": "code",
   "execution_count": 2,
   "metadata": {
    "colab": {
     "base_uri": "https://localhost:8080/",
     "height": 282
    },
    "executionInfo": {
     "elapsed": 1500,
     "status": "ok",
     "timestamp": 1674733577530,
     "user": {
      "displayName": "Sergey Muravyov",
      "userId": "10949358407602425133"
     },
     "user_tz": -180
    },
    "id": "2EYWJJaGFr6D",
    "outputId": "6d95a613-abd5-4d4b-f113-c0521374330f"
   },
   "outputs": [
    {
     "name": "stdout",
     "output_type": "stream",
     "text": [
      "Y = 5.224X + 6.899 + eps\n"
     ]
    },
    {
     "data": {
      "image/png": "[encoded data removed]",
      "text/plain": [
       "<Figure size 432x288 with 1 Axes>"
      ]
     },
     "metadata": {
      "needs_background": "light"
     },
     "output_type": "display_data"
    }
   ],
   "source": [
    "a, b = 5, 7 # Regression parameters\n",
    "\n",
    "X = np.random.random(size=(50, 1))\n",
    "# Linear model: Y = aX + b + eps, where eps ~ N(0, 0.5)\n",
    "Y = a * X.squeeze() + b + np.random.normal(scale = 0.5, size=50) \n",
    "\n",
    "# fit_intercept stands for 'b' in the equation above\n",
    "model = LinearRegression(fit_intercept=True)  \n",
    "#Whether to calculate the intercept for this model. \n",
    "#If set to False, no intercept will be used in calculations (i.e. data is expected to be centered).\n",
    "model.fit(X, Y)\n",
    "\n",
    "print (\"Y = %.3fX + %.3f + eps\" % (model.coef_, model.intercept_)) #coef_ - W, intercept_ - W0\n",
    "\n",
    "# Plotting the data and the model prediction\n",
    "X_test = np.linspace(0, 1, 100)\n",
    "\n",
    "plt.plot(X_test.squeeze(), model.predict(X_test[:, np.newaxis]), \n",
    "         linewidth = 4, color =  'b');\n",
    "plt.plot(X.squeeze(), Y, 'ro', ms = 8)\n",
    "plt.show()"
   ]
  }
 ],
 "metadata": {
  "anaconda-cloud": {},
  "colab": {
   "provenance": []
  },
  "kernelspec": {
   "display_name": "Python 3 (ipykernel)",
   "language": "python",
   "name": "python3"
  },
  "language_info": {
   "codemirror_mode": {
    "name": "ipython",
    "version": 3
   },
   "file_extension": ".py",
   "mimetype": "text/x-python",
   "name": "python",
   "nbconvert_exporter": "python",
   "pygments_lexer": "ipython3",
   "version": "3.11.2"
  }
 },
 "nbformat": 4,
 "nbformat_minor": 1
}
